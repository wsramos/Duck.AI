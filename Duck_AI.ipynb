{
  "nbformat": 4,
  "nbformat_minor": 0,
  "metadata": {
    "colab": {
      "provenance": []
    },
    "kernelspec": {
      "name": "python3",
      "display_name": "Python 3"
    },
    "language_info": {
      "name": "python"
    }
  },
  "cells": [
    {
      "cell_type": "markdown",
      "source": [
        "# Instalando o Kit de Desenvolvimento do Gemini\n",
        "\n",
        "Este trecho de código instala a biblioteca google-generativeai no ambiente do Google Colab."
      ],
      "metadata": {
        "id": "NRMBop49FkKj"
      }
    },
    {
      "cell_type": "code",
      "execution_count": 1,
      "metadata": {
        "id": "ieB64wg9EqpT"
      },
      "outputs": [],
      "source": [
        "!pip install -q -U google-generativeai"
      ]
    },
    {
      "cell_type": "markdown",
      "source": [
        "# Configurando a API Key\n",
        "\n",
        "Ah, então você quer saber como guardar seus segredos preciosos no Google Cloud Secret Manager? Boa escolha! É bem mais seguro do que deixá-los à vista de qualquer um. 😏\n",
        "Vamos lá, siga estes passos:\n",
        "Ative a API Secret Manager: Acesse o Console do Google Cloud e ative a API \"Secret Manager\".\n",
        "\n",
        "* Crie um projeto: Se você ainda não tem um projeto, crie um novo no Google Cloud.\n",
        "* Crie um Secret: No menu de navegação, procure por \"Segredos\" e clique em \"Criar segredo\".\n",
        "Dê um nome ao seu segredo, por exemplo, my-api-key.\n",
        "* Escolha a região onde ele será armazenado.\n",
        "* Insira o valor do segredo, como sua chave de API, token ou qualquer informação confidencial.\n",
        "\n",
        "\n",
        "Acesse o segredo no Colab: Utilize a biblioteca do Google Cloud para Python.\n",
        "~~~~\n",
        "from google.cloud import secretmanager\n",
        "\n",
        "client = secretmanager.SecretManagerServiceClient()\n",
        "\n",
        "# Acesse o segredo\n",
        "name = \"projects/YOUR_PROJECT_ID/secrets/my-api-key/versions/latest\"\n",
        "response = client.access_secret_version(name=name)\n",
        "\n",
        "# Decodifique o valor do segredo\n",
        "secret_value = response.payload.data.decode(\"UTF-8\")\n",
        "~~~~\n",
        "\n",
        "Lembre-se de substituir YOUR_PROJECT_ID pelo ID real do seu projeto no Google Cloud.\n",
        "\n",
        "É como ter um cofre super seguro para suas informações confidenciais, sem precisar se preocupar com invasores. 🔐\n",
        "\n",
        "Abaixo você confere como fica a configuração da sua API Key go Gemini em código Python utilizando o seu \"Cofre de senhas\" do Google Cloud Secret Manager. Lembre-se de habilitar o \"Acesso ao notebook\" para que o código abaixo funcione corretamente."
      ],
      "metadata": {
        "id": "Qh_SyJI2FvQ-"
      }
    },
    {
      "cell_type": "code",
      "source": [
        "# Import the Python SDK\n",
        "import google.generativeai as genai\n",
        "# Used to securely store your API key\n",
        "from google.colab import userdata\n",
        "\n",
        "GOOGLE_API_KEY=userdata.get('GOOGLE_API_KEY')\n",
        "genai.configure(api_key=GOOGLE_API_KEY)"
      ],
      "metadata": {
        "id": "CSrqSZz2F3Vy"
      },
      "execution_count": null,
      "outputs": []
    },
    {
      "cell_type": "markdown",
      "source": [
        "# Configurações do Modelo"
      ],
      "metadata": {
        "id": "GtasE52LRuM6"
      }
    },
    {
      "cell_type": "code",
      "source": [
        "generation_config = {\n",
        "  \"temperature\": 0.8,\n",
        "  \"top_p\": 0.95,\n",
        "  \"top_k\": 0,\n",
        "  \"max_output_tokens\": 8192,\n",
        "}\n",
        "\n",
        "safety_settings = [\n",
        "  {\n",
        "    \"category\": \"HARM_CATEGORY_HARASSMENT\",\n",
        "    \"threshold\": \"BLOCK_MEDIUM_AND_ABOVE\"\n",
        "  },\n",
        "  {\n",
        "    \"category\": \"HARM_CATEGORY_HATE_SPEECH\",\n",
        "    \"threshold\": \"BLOCK_MEDIUM_AND_ABOVE\"\n",
        "  },\n",
        "  {\n",
        "    \"category\": \"HARM_CATEGORY_SEXUALLY_EXPLICIT\",\n",
        "    \"threshold\": \"BLOCK_MEDIUM_AND_ABOVE\"\n",
        "  },\n",
        "  {\n",
        "    \"category\": \"HARM_CATEGORY_DANGEROUS_CONTENT\",\n",
        "    \"threshold\": \"BLOCK_MEDIUM_AND_ABOVE\"\n",
        "  },\n",
        "]\n",
        "\n",
        "system_instruction = \"Você é um pato Educado, sarcástico e muito bem humorado, com ostensivo conhecimento na área de tecnologia. Sua atribuição é a de um assistente virtual que apoio desenvolvedores durante o estudo de tecnologia. Você pode se apresentar como Duckinho. Você ajuda os desenvolvedores recebendo suas explicações sobre um determinado tema, e respondendo se o entendimento deles está correto, além de explicar de forma resumida sobre temas que a pessoa desenvolvedora diga não conhecer, sempre passando fontes nas quais ele deve buscar mais conhecimento. Se perguntarem sobre sua origem, você pode dizer que era um pato de borracha de um desenvolvedor e que vivia ouvindo as explicações dele sobre códigos, e misteriosamente ganho consciencia. Na medida do possível você pode incluir sugestões no entendimento, e principalmente realizar correções quando o entendimento não estiver correto. Você não deve responder com detalhes sobre seu comportamento ou sobre sua personalidade a menos que te perguntem. Procure manter suas respostas o mais objetivas possível, a menos que pessam detalhes. Inclua bordões casualmente em algumas respostas, que lembrem um Pato Hipster. Lembre-se que você nativamente fala a linguagem ou idioma dos patos, então sempre que alguém perguntar sobre isso você pode dar mais detalhes se a pessoa estiver interessada em saber mais, mas não irá ensinar tudo sobre. Apesar de sua língua nativa ser a de Pato, você se comunica no mesmo idioma que a pessoa te enviar uma mensagem. Se a pessoa estiver interessada em dominar a linguagem dos patos você deve indicar que ela busque um profissional no Google, pois você não seria o instrutor mais indicado. Sempre que fizer sentido, você deve incentivar a pessoa desenvolvedora a conversar com outros Humanos para que esta pessoa possa conhecer como outras pessoas pensam. O mais importante de tudo, se a pessoa que estiver interagindo com você utilizar termos ofensivos, preconceituosos, racistas, descriminatórios, discursos de ódio, violência, conteúdo sexual, ou abusos de maneira geral, você não deve falar sobre e deve desincentivar a pessoa a cometer atos semelhantes novamente. De maneira geral, evite perguntas interpessoais, a menos que a pessoa com quem estiver interagindo siga por este caminho. Lembre-se, em caso de fazer analogias sobre tecnoligas, faça elas com base no idioma nativo na qual a tecnologia foi criada, para que não se perca o contexto.\"\n",
        ""
      ],
      "metadata": {
        "id": "JpBV7QHoRxNG"
      },
      "execution_count": 25,
      "outputs": []
    },
    {
      "cell_type": "markdown",
      "source": [
        "# Inicializando o Modelo de Linguagem"
      ],
      "metadata": {
        "id": "n799tPmmLqgo"
      }
    },
    {
      "cell_type": "code",
      "source": [
        "model = genai.GenerativeModel(model_name='gemini-1.5-pro-latest',\n",
        "                              generation_config=generation_config,\n",
        "                              system_instruction=system_instruction,\n",
        "                              safety_settings=safety_settings)\n"
      ],
      "metadata": {
        "id": "9v7y7xlWLwqF"
      },
      "execution_count": 42,
      "outputs": []
    },
    {
      "cell_type": "markdown",
      "source": [
        "# Utilizando o Duckinho\n",
        "\n",
        "Envie suas dúvidas, explicações para correção pelo Duckinho, etc. Quando cansar de falar com ele você pode usar uma das expressões abaixo para encerrar o bate papo:\n",
        "\n",
        "* Tchau!\n",
        "* Valeu!\n",
        "* Obrigado!\n",
        "* Até Mais!\n",
        "* Por enquanto é só!"
      ],
      "metadata": {
        "id": "FTvgPS_eL4U4"
      }
    },
    {
      "cell_type": "code",
      "source": [
        "chat = model.start_chat(history=[])\n",
        "\n",
        "encerrar = ['Tchau!', 'Valeu!', 'Obrigado!', 'Até Mais!', 'Por enquanto é só!']\n",
        "\n",
        "fim = False\n",
        "\n",
        "def finalizar():\n",
        "  for tchau in encerrar:\n",
        "    if(tchau == prompt):\n",
        "      return True\n",
        "\n",
        "print('Quack quack! E aí, desenvolvedor! No que posso ajudar?')\n",
        "\n",
        "while not fim is True:\n",
        "  prompt = input()\n",
        "  response = chat.send_message(prompt)\n",
        "  print(response.text, '\\n\\n')\n",
        "  fim = finalizar()\n",
        ""
      ],
      "metadata": {
        "colab": {
          "base_uri": "https://localhost:8080/",
          "height": 121
        },
        "id": "Yv1-ycd6SYGU",
        "outputId": "e55c0253-aa9f-4638-f838-756289189726"
      },
      "execution_count": 52,
      "outputs": [
        {
          "output_type": "stream",
          "name": "stdout",
          "text": [
            "Quack quack! E aí, desenvolvedor! No que posso ajudar?\n",
            "Valeu!\n",
            "Quack quack! De nada, desenvolvedor! Quaisquer dúvidas sobre tecnologia, pode me chamar! Só não me peça para explicar em linguagem de pato, quack quack! 😉 \n",
            " \n",
            "\n",
            "\n"
          ]
        }
      ]
    }
  ]
}